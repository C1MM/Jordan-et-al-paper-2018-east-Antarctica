{
 "cells": [
  {
   "cell_type": "code",
   "execution_count": null,
   "metadata": {},
   "outputs": [],
   "source": [
    "import numpy as np\n",
    "r = np.array([2,3])\n",
    "np.append(r,[2])"
   ]
  },
  {
   "cell_type": "code",
   "execution_count": null,
   "metadata": {},
   "outputs": [],
   "source": [
    "#test of interpolation\n",
    "import scipy.interpolate as interp\n",
    "import numpy as np\n",
    "import matplotlib.pyplot as plt\n",
    "x = np.array([3, 5, 6, 2, 1, 7, 9])\n",
    "x = np.append(x,[66])\n",
    "y = np.arange(0,8)\n",
    "fun = interp.splrep(y,x)\n",
    "x1 = np.arange(0,5,.5)\n",
    "print(interp.splev(x1,fun))\n",
    "print(x[:-1])"
   ]
  },
  {
   "cell_type": "code",
   "execution_count": null,
   "metadata": {},
   "outputs": [],
   "source": [
    "x=.6\n",
    "for r in range(20):\n",
    "    x = x+(2*x-1)\n",
    "    print(x)"
   ]
  },
  {
   "cell_type": "code",
   "execution_count": null,
   "metadata": {},
   "outputs": [],
   "source": [
    "#This is the important one\n",
    "import numpy as np\n",
    "import scipy.interpolate as interp\n",
    "H = 3000\n",
    "tp=800000\n",
    "def semiLagrange(acc,melt,n):\n",
    "    #defining terms and needed functions\n",
    "    dt = 2000\n",
    "    zs = np.arange(0,H,150)\n",
    "    ags = np.zeros(len(zs))\n",
    "    ags[:ags.shape[0]-1]=np.random.randint(5000,10000,ags.shape[0]-1)\n",
    "    acc2 = lambda t0 : acc*np.random.uniform(10,40)/30\n",
    "    eta = lambda z0 : (1-(H-z0)/H)*(n+2-np.power((H-z0)/H,n+1))/(n+1)\n",
    "    w = lambda tr, zr : -1*melt+(-1*acc2(tr)+melt)*eta(zr)\n",
    "    \n",
    "    dsts = np.random.uniform(0,100,len(zs))\n",
    "    t=dt\n",
    "    #stepping through each timestep\n",
    "    while t<tp:\n",
    "        #solving equation for correct distance\n",
    "        for r in range(2):\n",
    "            dsts = dt*w(t-tp/2,zs-dsts/2)\n",
    "        #finding ages of the particles in previous timestep\n",
    "        ags=np.append(ags,0)\n",
    "        zs=np.append(zs,H)\n",
    "        interpol = interp.splrep(zs,ags)\n",
    "        ags=ags[:-1]\n",
    "        zs=zs[:-1]\n",
    "        ags=interp.splev(zs-dsts,interpol)\n",
    "        #obtaining current ages\n",
    "        ags+=dt\n",
    "        t+=dt\n",
    "    ags=np.append(ags,0)\n",
    "    zs=np.append(zs,H)\n",
    "    print(zs,ags)\n",
    "    return interp.splrep(zs,ags)"
   ]
  },
  {
   "cell_type": "code",
   "execution_count": null,
   "metadata": {},
   "outputs": [],
   "source": [
    "#tests\n",
    "import numpy as np\n",
    "n=1.2\n",
    "H=3000\n",
    "t=20000\n",
    "acc=.055\n",
    "melt=0\n",
    "acc2 = lambda t0 : acc*np.random.uniform(10,40)/30\n",
    "s = lambda z11: (H-z11)/H\n",
    "eta = lambda z0 : (1-(H-z0)/H)*(n+2-np.power((H-z0)/H,n+1))/(n+1)\n",
    "w = lambda tr, zr : -1*melt+(-1*acc2(tr)+melt)*eta(zr)\n",
    "z = np.arange(0,3000,300)\n",
    "dsts = np.random.uniform(-100,-50,len(z))\n",
    "while t<=60000:\n",
    "    for r in range(2):\n",
    "        r1 = zip(z-dsts/2,w(t-10000,z-dsts/2))\n",
    "        x = [f for f in r1]\n",
    "        print(x)\n",
    "        dsts=20000*w(t-10000,z-dsts/2)\n",
    "        print(r,z-dsts/2)\n",
    "    t+=20000"
   ]
  },
  {
   "cell_type": "code",
   "execution_count": null,
   "metadata": {},
   "outputs": [],
   "source": [
    "%matplotlib notebook\n",
    "import matplotlib.pyplot as plt\n",
    "\n",
    "depths = np.array([372,612,846,1052,1187,1112,1421,1651,1995,2224])\n",
    "ags = np.array([7944,14602,28488,40371,46955,34000,80000,113000,125000,146000])\n",
    "basis = np.arange(3000)\n",
    "def f_to_min(a, m, n):\n",
    "    predicts = interp.splev(depths,semiLagrange(a, m, n))\n",
    "    return np.average((ags-predicts)**2)\n",
    "acRates = np.random.uniform(.04,.06,500)\n",
    "acRates.sort()\n",
    "'''x = [f_to_min(rs,0,1.2) for rs in acRates]\n",
    "plt, ax = plt.subplots()\n",
    "ax.scatter(acRates,x)\n",
    "plt.show()'''\n",
    "fig, ax = plt.subplots()\n",
    "print(3000-depths)\n",
    "ax.plot(interp.splev(basis,semiLagrange(.055,0,1.2)),basis)\n",
    "plt.xlim((0,200000))\n",
    "ax.scatter(ags,3000-depths)"
   ]
  },
  {
   "cell_type": "code",
   "execution_count": null,
   "metadata": {},
   "outputs": [],
   "source": [
    "import scipy.interpolate as inter\n",
    "import scipy.optimize as opt\n",
    "depths = [372,612,846,1052,1187,1112,1421,1651,1995,2224]\n",
    "ags = [7944,14602,28488,40371,46955,34000,80000,113000,125000,146000]\n",
    "def f_to_min(params):\n",
    "    acc, melt, n = params\n",
    "    predicts = interp.splev(depths,semiLagrange(acc,melt,n))\n",
    "    return np.sum((ags-predicts)**2)\n",
    "opt.minimize(f_to_min,[.055,0,1.2])\n",
    "semiLagrange(.055,0,1.2)#print(inter.splev(3,semiLagrange(.055,0,1.2)))"
   ]
  },
  {
   "cell_type": "code",
   "execution_count": null,
   "metadata": {},
   "outputs": [],
   "source": [
    "import numpy as np\n",
    "tp=800000\n",
    "H=3000\n",
    "n=1.2\n",
    "a = .055\n",
    "melt = 0\n",
    "zs = np.arange(0,H,100)\n",
    "acc = lambda t0 : a*np.random.uniform(25,50)/30\n",
    "eta = lambda z0 : (1-((H-z0)/H))*(n+2-np.power(((H-z0)/H),n+1))/(n+1)\n",
    "w = lambda t1, z1 : -1*melt+(-1*acc(t1)+melt)*eta(z1)\n",
    "dsts = np.random.uniform(-100,0,len(zs))\n",
    "print('eta',eta(zs-dsts/2))\n",
    "print('w',w(500,zs-dsts/2))\n",
    "dsts = 1000*w(500,zs-dsts/2)\n",
    "print(zs-dsts)\n",
    "dsts = 1000*w(500,zs-dsts/2)\n",
    "print(zs-dsts)"
   ]
  },
  {
   "cell_type": "code",
   "execution_count": null,
   "metadata": {},
   "outputs": [],
   "source": [
    "%matplotlib notebook\n",
    "import matplotlib.pyplot as plt\n",
    "r1 = np.arange(0,3000)\n",
    "H=3000\n",
    "n=1.2\n",
    "eta = lambda z0 : (1-(H-z0)/H)*(n+2-np.power((H-z0)/H,n+1))/(n+1)\n",
    "plt.plot(r1,eta(r1))#np.power((3000-r1)/3000,2.2))"
   ]
  }
 ],
 "metadata": {
  "kernelspec": {
   "display_name": "Python 3",
   "language": "python",
   "name": "python3"
  },
  "language_info": {
   "codemirror_mode": {
    "name": "ipython",
    "version": 3
   },
   "file_extension": ".py",
   "mimetype": "text/x-python",
   "name": "python",
   "nbconvert_exporter": "python",
   "pygments_lexer": "ipython3",
   "version": "3.7.7"
  }
 },
 "nbformat": 4,
 "nbformat_minor": 4
}
